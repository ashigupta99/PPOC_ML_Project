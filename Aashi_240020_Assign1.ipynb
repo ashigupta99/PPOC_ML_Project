{
  "nbformat": 4,
  "nbformat_minor": 0,
  "metadata": {
    "colab": {
      "provenance": [],
      "include_colab_link": true
    },
    "kernelspec": {
      "name": "python3",
      "display_name": "Python 3"
    },
    "language_info": {
      "name": "python"
    }
  },
  "cells": [
    {
      "cell_type": "markdown",
      "metadata": {
        "id": "view-in-github",
        "colab_type": "text"
      },
      "source": [
        "<a href=\"https://colab.research.google.com/github/ashigupta99/PPOC_ML_Project/blob/main/Aashi_240020_Assign1.ipynb\" target=\"_parent\"><img src=\"https://colab.research.google.com/assets/colab-badge.svg\" alt=\"Open In Colab\"/></a>"
      ]
    },
    {
      "cell_type": "markdown",
      "source": [
        "# Assignment 0\n",
        "**Instrunctions for the assignment** \\\\\n",
        "\n",
        "*   Open Google Colab: Begin by launching Google Colab and creating a new Python notebook.\n",
        "*   Read Comments Carefully: Pay close attention to the comments provided within the codeblocks.\n",
        "\n",
        "\n",
        "*   Code Block Completion: Fill in the codeblocks as per the instructions given in the comments.\n",
        "*   Avoid Copying: Ensure that you understand the concepts and refrain from directly copying code from external sources.\n",
        "\n",
        "\n",
        "*   Execute Codeblocks: Verify that each codeblock runs without errors by executing them.\n",
        "*   Save and Submit: Once you've completed the assignment, save your notebook and follow the submission guidelines provided by your instructor.\n",
        "\n",
        "\n",
        "\n",
        "\n",
        "\n",
        "\n",
        "\n",
        "\n",
        "\n",
        "\n",
        "**Notes:**\n",
        "\n",
        "Encouragement: Take your time to understand the concepts behind each codeblock. This assignment aims to strengthen your Python programming skills. \\\\\n",
        "Good Luck! : If you have any questions or require clarification on any aspect of the instructions, feel free to ask. \\\\\n",
        " \\\\\n",
        "\n",
        "Best wishes for your assignment! These instructions are crafted to provide clarity and guidance as you work through the tasks in Google Colab.\n",
        "\n",
        "\n",
        "\n",
        "\n",
        "\n",
        "\n",
        "\n"
      ],
      "metadata": {
        "id": "U2p472EZsFQh"
      }
    },
    {
      "cell_type": "markdown",
      "source": [
        "## Getting Started\n",
        "Solving these exercises will help make you a better programmer. Solve them in order, because each solution builds scaffolding, working code, and knowledge you can use on future problems. Read the directions carefully, and have fun!\n",
        "\n",
        "\n",
        "\n",
        "*   To save your work to your Google Drive, go to File then \"Save Copy in Drive\".\n",
        "*   Your own work will now appear in your Google Drive account!\n",
        "*   Work on this copy as directed"
      ],
      "metadata": {
        "id": "jGDFomGq3i87"
      }
    },
    {
      "cell_type": "markdown",
      "source": [
        "## What to do when you don't know what to do next\n",
        "- When the exercise asks you to reverse an list, the way forward is to search for \"How to reverse a list in Python\" in your favorite search engine.\n",
        "- When the exercise asks you to check if a number is even, the way forward is to search for \"how to check if a number is even in Python\".\n",
        "- When the exercise has you calculate the area of a circle, the way forward is to search for \"how to calculate the area of a circle in Python\" or \"How to get pi in Python\".\n",
        "\n",
        "😀😀"
      ],
      "metadata": {
        "id": "jZ1hWiMO4TTN"
      }
    },
    {
      "cell_type": "markdown",
      "source": [
        "## Basic Python Exercises"
      ],
      "metadata": {
        "id": "LKjbv4-Mmp3_"
      }
    },
    {
      "cell_type": "markdown",
      "source": [
        "1. Create a new list from two list \\\\\n",
        "list1 = [10, 20, 25, 30, 35] \\\\\n",
        "list2 = [40, 45, 60, 75, 90]"
      ],
      "metadata": {
        "id": "POUIXeAkoAJy"
      }
    },
    {
      "cell_type": "code",
      "source": [
        "list1 = [10, 20, 25, 30, 35]\n",
        "list2 = [40, 45, 60, 75, 90]\n",
        "myl=[]\n",
        "myl.extend(list1)\n",
        "myl.extend(list2)\n",
        "print(myl)"
      ],
      "metadata": {
        "id": "083WsOfvmz3k",
        "colab": {
          "base_uri": "https://localhost:8080/"
        },
        "outputId": "b38f242f-31b5-4468-bbdc-96e9a2c0e7c7"
      },
      "execution_count": 41,
      "outputs": [
        {
          "output_type": "stream",
          "name": "stdout",
          "text": [
            "[10, 20, 25, 30, 35, 40, 45, 60, 75, 90]\n"
          ]
        }
      ]
    },
    {
      "cell_type": "markdown",
      "source": [
        "2. Print multiplication table from 1 to 10"
      ],
      "metadata": {
        "id": "mBuOTb3vo7SY"
      }
    },
    {
      "cell_type": "code",
      "source": [
        "for i in range (1,11):\n",
        "  for j in range (1,11):\n",
        "    print(f\"{i}x{j}={i*j}\",end='\\t\\t')\n",
        "  print()"
      ],
      "metadata": {
        "id": "ALdwhW6uqRTB",
        "colab": {
          "base_uri": "https://localhost:8080/"
        },
        "outputId": "e1eac69f-f326-4e6c-d5c7-27099e21fc04"
      },
      "execution_count": 42,
      "outputs": [
        {
          "output_type": "stream",
          "name": "stdout",
          "text": [
            "1x1=1\t\t1x2=2\t\t1x3=3\t\t1x4=4\t\t1x5=5\t\t1x6=6\t\t1x7=7\t\t1x8=8\t\t1x9=9\t\t1x10=10\t\t\n",
            "2x1=2\t\t2x2=4\t\t2x3=6\t\t2x4=8\t\t2x5=10\t\t2x6=12\t\t2x7=14\t\t2x8=16\t\t2x9=18\t\t2x10=20\t\t\n",
            "3x1=3\t\t3x2=6\t\t3x3=9\t\t3x4=12\t\t3x5=15\t\t3x6=18\t\t3x7=21\t\t3x8=24\t\t3x9=27\t\t3x10=30\t\t\n",
            "4x1=4\t\t4x2=8\t\t4x3=12\t\t4x4=16\t\t4x5=20\t\t4x6=24\t\t4x7=28\t\t4x8=32\t\t4x9=36\t\t4x10=40\t\t\n",
            "5x1=5\t\t5x2=10\t\t5x3=15\t\t5x4=20\t\t5x5=25\t\t5x6=30\t\t5x7=35\t\t5x8=40\t\t5x9=45\t\t5x10=50\t\t\n",
            "6x1=6\t\t6x2=12\t\t6x3=18\t\t6x4=24\t\t6x5=30\t\t6x6=36\t\t6x7=42\t\t6x8=48\t\t6x9=54\t\t6x10=60\t\t\n",
            "7x1=7\t\t7x2=14\t\t7x3=21\t\t7x4=28\t\t7x5=35\t\t7x6=42\t\t7x7=49\t\t7x8=56\t\t7x9=63\t\t7x10=70\t\t\n",
            "8x1=8\t\t8x2=16\t\t8x3=24\t\t8x4=32\t\t8x5=40\t\t8x6=48\t\t8x7=56\t\t8x8=64\t\t8x9=72\t\t8x10=80\t\t\n",
            "9x1=9\t\t9x2=18\t\t9x3=27\t\t9x4=36\t\t9x5=45\t\t9x6=54\t\t9x7=63\t\t9x8=72\t\t9x9=81\t\t9x10=90\t\t\n",
            "10x1=10\t\t10x2=20\t\t10x3=30\t\t10x4=40\t\t10x5=50\t\t10x6=60\t\t10x7=70\t\t10x8=80\t\t10x9=90\t\t10x10=100\t\t\n"
          ]
        }
      ]
    },
    {
      "cell_type": "markdown",
      "source": [
        "3. Print a downward Half-Pyramid Pattern\n",
        "\n",
        "0 0 0 0 0   \n",
        "0 0 0 0 <br>\n",
        "0 0 0 <br>\n",
        "0 0 <br>\n",
        "0"
      ],
      "metadata": {
        "id": "rXhutUXXqR5x"
      }
    },
    {
      "cell_type": "code",
      "source": [
        "for i in range(5,0,-1):\n",
        "  for j in range(0,i):\n",
        "    print(0,end=' ')\n",
        "  print()"
      ],
      "metadata": {
        "id": "U9j7N1nrtw--",
        "colab": {
          "base_uri": "https://localhost:8080/"
        },
        "outputId": "f58155bd-63bf-4a6f-b317-3b36e99f27f6"
      },
      "execution_count": 43,
      "outputs": [
        {
          "output_type": "stream",
          "name": "stdout",
          "text": [
            "0 0 0 0 0 \n",
            "0 0 0 0 \n",
            "0 0 0 \n",
            "0 0 \n",
            "0 \n"
          ]
        }
      ]
    },
    {
      "cell_type": "markdown",
      "source": [
        " 4. Given the following assignment of the vegetables list, add \"tomato\" to the end of the list and sort them in alphabetical order.\\\n",
        "vegetables = [\"eggplant\", \"broccoli\", \"carrot\",\"cauliflower\", \"zucchini\"]"
      ],
      "metadata": {
        "id": "Re-QzSX4ugH-"
      }
    },
    {
      "cell_type": "code",
      "source": [
        "vegetables = [\"eggplant\", \"broccoli\", \"carrot\",\"cauliflower\", \"zucchini\"]\n",
        "vegetables.append(\"tomato\")\n",
        "vegetables.sort()\n",
        "print(vegetables)"
      ],
      "metadata": {
        "id": "hnA-2EIDuxEH",
        "colab": {
          "base_uri": "https://localhost:8080/"
        },
        "outputId": "8f36ce2f-bcd9-41d7-a805-bf45cd78a0d0"
      },
      "execution_count": 44,
      "outputs": [
        {
          "output_type": "stream",
          "name": "stdout",
          "text": [
            "['broccoli', 'carrot', 'cauliflower', 'eggplant', 'tomato', 'zucchini']\n"
          ]
        }
      ]
    },
    {
      "cell_type": "markdown",
      "source": [
        "5. Write a function definition named is_odd that takes in a number and returns True or False if that number is odd."
      ],
      "metadata": {
        "id": "ARyaOlp8uxix"
      }
    },
    {
      "cell_type": "code",
      "source": [
        "def is_odd(num):\n",
        "  if num%2==1:\n",
        "    return True\n",
        "  else:\n",
        "    return False\n",
        "is_odd(5)"
      ],
      "metadata": {
        "id": "OztCSuVjvACz",
        "colab": {
          "base_uri": "https://localhost:8080/"
        },
        "outputId": "fcabf714-bf2f-4c5a-be88-cd4678ad8848"
      },
      "execution_count": 45,
      "outputs": [
        {
          "output_type": "execute_result",
          "data": {
            "text/plain": [
              "True"
            ]
          },
          "metadata": {},
          "execution_count": 45
        }
      ]
    },
    {
      "cell_type": "markdown",
      "source": [
        "6. Write a function definition named mode that takes in sequence of numbers and returns the most commonly occuring value"
      ],
      "metadata": {
        "id": "GIAo6YfLu_AJ"
      }
    },
    {
      "cell_type": "code",
      "source": [
        "def mod(listt):\n",
        "  dict={}\n",
        "  for i in listt:\n",
        "    if i in dict:\n",
        "      dict[i]+=1\n",
        "    else:\n",
        "      dict[i]=1\n",
        "  m=max(dict.values())\n",
        "  for key,value in dict.items():\n",
        "    if value==m:\n",
        "      return key\n",
        "mod([1,2,1,3])"
      ],
      "metadata": {
        "id": "WEikC1aTvXoS",
        "colab": {
          "base_uri": "https://localhost:8080/"
        },
        "outputId": "54dee874-8073-4e8b-b83a-fc8c8dce3cca"
      },
      "execution_count": 46,
      "outputs": [
        {
          "output_type": "execute_result",
          "data": {
            "text/plain": [
              "1"
            ]
          },
          "metadata": {},
          "execution_count": 46
        }
      ]
    },
    {
      "cell_type": "markdown",
      "source": [
        "## Numpy Exercises"
      ],
      "metadata": {
        "id": "AKuHwB0lvZn-"
      }
    },
    {
      "cell_type": "markdown",
      "source": [
        "Exercise 1: Create a 4X2 integer array and Prints its attributes \\\\\n",
        "**Note:** The element must be a type of unsigned int16. \\\\\n",
        "And print the following Attributes: –\n",
        "\n",
        "\n",
        "\n",
        "1.   The shape of an array.\n",
        "2.   Array dimensions.\n",
        "3.   The Length of each element of the array in bytes.\n",
        "\n",
        "\n",
        "\n",
        "\n",
        "\n"
      ],
      "metadata": {
        "id": "8f2ww678vf5S"
      }
    },
    {
      "cell_type": "code",
      "source": [
        "import numpy as np\n",
        "arr=np.array([[1,2],[3,4],[5,6],[7,8]],dtype=np.uint16)\n",
        "print(arr)\n",
        "print(\"Shape of Array is-\", arr.shape)\n",
        "print(\"Dimensions of the array:\",arr.ndim)\n",
        "print(\"Size of each element(unsigned int 16):\",arr.itemsize)"
      ],
      "metadata": {
        "id": "2YMq_rbcwTeb",
        "colab": {
          "base_uri": "https://localhost:8080/"
        },
        "outputId": "9fc27250-9543-40c7-c715-86db294b5293"
      },
      "execution_count": 47,
      "outputs": [
        {
          "output_type": "stream",
          "name": "stdout",
          "text": [
            "[[1 2]\n",
            " [3 4]\n",
            " [5 6]\n",
            " [7 8]]\n",
            "Shape of Array is- (4, 2)\n",
            "Dimensions of the array: 2\n",
            "Size of each element(unsigned int 16): 2\n"
          ]
        }
      ]
    },
    {
      "cell_type": "markdown",
      "source": [
        "Exercise 2: Following is the provided numPy array. Return array of items by taking the third column from all rows \\\\\n",
        "sampleArray = numpy.array ( [ [ 11 ,22, 33 ], [ 44, 55, 66 ], [ 77, 88, 99 ] ] )"
      ],
      "metadata": {
        "id": "jLVSC8epw0Wz"
      }
    },
    {
      "cell_type": "code",
      "source": [
        "sampleArray = np.array ( [ [ 11 ,22, 33 ], [ 44, 55, 66 ], [ 77, 88, 99 ] ] )\n",
        "ans=sampleArray[:,2]\n",
        "print(ans)"
      ],
      "metadata": {
        "id": "UVRODBc1wyjl",
        "colab": {
          "base_uri": "https://localhost:8080/"
        },
        "outputId": "0cd667fb-903c-4223-d44f-2821f33d8a9c"
      },
      "execution_count": 48,
      "outputs": [
        {
          "output_type": "stream",
          "name": "stdout",
          "text": [
            "[33 66 99]\n"
          ]
        }
      ]
    },
    {
      "cell_type": "markdown",
      "source": [
        "Exercise 3: Sort following NumPy array \\\\\n",
        "Case 1: Sort array by the second row \\\\\n",
        "Case 2: Sort the array by the second column"
      ],
      "metadata": {
        "id": "T72G3kpRxESl"
      }
    },
    {
      "cell_type": "code",
      "source": [
        "arr=np.array([[8,9,7],[5,4,6],[3,2,1]])\n",
        "ind=np.argsort(arr[1,:])\n",
        "sort_secrow=arr[:,ind]\n",
        "ind=np.argsort(arr[:,1])\n",
        "sort_seccol=arr[ind,:]\n",
        "print(\"Case 1:\")\n",
        "print(sort_secrow)\n",
        "print(\"Case 2:\")\n",
        "print(sort_seccol)"
      ],
      "metadata": {
        "id": "kdPN_yoaxULi",
        "colab": {
          "base_uri": "https://localhost:8080/"
        },
        "outputId": "ce70a344-9cf7-4489-bc4f-54d8d8bc9cb3"
      },
      "execution_count": 49,
      "outputs": [
        {
          "output_type": "stream",
          "name": "stdout",
          "text": [
            "Case 1:\n",
            "[[9 8 7]\n",
            " [4 5 6]\n",
            " [2 3 1]]\n",
            "Case 2:\n",
            "[[3 2 1]\n",
            " [5 4 6]\n",
            " [8 9 7]]\n"
          ]
        }
      ]
    },
    {
      "cell_type": "markdown",
      "source": [
        "## Pandas Exercises\n",
        "In this exercise, we are using Automobile Dataset for data analysis. This Dataset has different characteristics of an auto such as body-style, wheel-base, engine-type, price, mileage, horsepower, etc. \\\\\n",
        "https://pynative.com/wp-content/uploads/2019/01/Automobile_data.csv"
      ],
      "metadata": {
        "id": "RUiLxEnkxXKF"
      }
    },
    {
      "cell_type": "code",
      "source": [
        "import pandas as pd\n",
        "df = pd.read_csv('Automobile_data.csv')"
      ],
      "metadata": {
        "id": "mqzXN3rva8mP"
      },
      "execution_count": 50,
      "outputs": []
    },
    {
      "cell_type": "markdown",
      "source": [
        "Exercise 1: From the given dataset print the first and last five rows."
      ],
      "metadata": {
        "id": "Bgvaffg70VqZ"
      }
    },
    {
      "cell_type": "code",
      "source": [
        "print(\"First five rows:\")\n",
        "print(df.head())\n",
        "print(\"Last five rows:\")\n",
        "print(df.tail())"
      ],
      "metadata": {
        "id": "RT2zrs5y2ZUB",
        "colab": {
          "base_uri": "https://localhost:8080/"
        },
        "outputId": "fcc80f86-ecb1-4de8-f838-02c802aa5b11"
      },
      "execution_count": 51,
      "outputs": [
        {
          "output_type": "stream",
          "name": "stdout",
          "text": [
            "First five rows:\n",
            "   index      company   body-style  wheel-base  length engine-type  \\\n",
            "0      0  alfa-romero  convertible        88.6   168.8        dohc   \n",
            "1      1  alfa-romero  convertible        88.6   168.8        dohc   \n",
            "2      2  alfa-romero    hatchback        94.5   171.2        ohcv   \n",
            "3      3         audi        sedan        99.8   176.6         ohc   \n",
            "4      4         audi        sedan        99.4   176.6         ohc   \n",
            "\n",
            "  num-of-cylinders  horsepower  average-mileage    price  \n",
            "0             four         111               21  13495.0  \n",
            "1             four         111               21  16500.0  \n",
            "2              six         154               19  16500.0  \n",
            "3             four         102               24  13950.0  \n",
            "4             five         115               18  17450.0  \n",
            "Last five rows:\n",
            "    index     company body-style  wheel-base  length engine-type  \\\n",
            "56     81  volkswagen      sedan        97.3   171.7         ohc   \n",
            "57     82  volkswagen      sedan        97.3   171.7         ohc   \n",
            "58     86  volkswagen      sedan        97.3   171.7         ohc   \n",
            "59     87       volvo      sedan       104.3   188.8         ohc   \n",
            "60     88       volvo      wagon       104.3   188.8         ohc   \n",
            "\n",
            "   num-of-cylinders  horsepower  average-mileage    price  \n",
            "56             four          85               27   7975.0  \n",
            "57             four          52               37   7995.0  \n",
            "58             four         100               26   9995.0  \n",
            "59             four         114               23  12940.0  \n",
            "60             four         114               23  13415.0  \n"
          ]
        }
      ]
    },
    {
      "cell_type": "markdown",
      "source": [
        "Exercise 2: Replace all column values which contain ?, n.a, or NaN with suitable values and print the updated dataset.:"
      ],
      "metadata": {
        "id": "FB-hfiNh2Z42"
      }
    },
    {
      "cell_type": "code",
      "source": [
        "df.replace(['?','n.a','NaN'],np.nan,inplace=True)\n",
        "for column in df.columns:\n",
        "  if df[column].dtype==object:\n",
        "    df[column].fillna(df[column].mode()[0],inplace=True)\n",
        "  else:\n",
        "    df[column].fillna(df[column].mean(),inplace=True)"
      ],
      "metadata": {
        "id": "n8u7K1cU2x4l",
        "colab": {
          "base_uri": "https://localhost:8080/"
        },
        "outputId": "9371cd0a-d3a1-4460-b07b-e941fa4f8473"
      },
      "execution_count": 52,
      "outputs": [
        {
          "output_type": "stream",
          "name": "stderr",
          "text": [
            "<ipython-input-52-a0c96d6b08a4>:6: FutureWarning: A value is trying to be set on a copy of a DataFrame or Series through chained assignment using an inplace method.\n",
            "The behavior will change in pandas 3.0. This inplace method will never work because the intermediate object on which we are setting values always behaves as a copy.\n",
            "\n",
            "For example, when doing 'df[col].method(value, inplace=True)', try using 'df.method({col: value}, inplace=True)' or df[col] = df[col].method(value) instead, to perform the operation inplace on the original object.\n",
            "\n",
            "\n",
            "  df[column].fillna(df[column].mean(),inplace=True)\n",
            "<ipython-input-52-a0c96d6b08a4>:4: FutureWarning: A value is trying to be set on a copy of a DataFrame or Series through chained assignment using an inplace method.\n",
            "The behavior will change in pandas 3.0. This inplace method will never work because the intermediate object on which we are setting values always behaves as a copy.\n",
            "\n",
            "For example, when doing 'df[col].method(value, inplace=True)', try using 'df.method({col: value}, inplace=True)' or df[col] = df[col].method(value) instead, to perform the operation inplace on the original object.\n",
            "\n",
            "\n",
            "  df[column].fillna(df[column].mode()[0],inplace=True)\n"
          ]
        }
      ]
    },
    {
      "cell_type": "code",
      "source": [
        "pd.set_option('display.max_rows', None)\n",
        "pd.set_option('display.max_columns', None)\n",
        "print(df)"
      ],
      "metadata": {
        "colab": {
          "base_uri": "https://localhost:8080/"
        },
        "id": "yZbI7gdbdvu7",
        "outputId": "94bb7419-5b8e-4ee1-f8a0-aba2d899b93f"
      },
      "execution_count": 53,
      "outputs": [
        {
          "output_type": "stream",
          "name": "stdout",
          "text": [
            "    index        company   body-style  wheel-base  length engine-type  \\\n",
            "0       0    alfa-romero  convertible        88.6   168.8        dohc   \n",
            "1       1    alfa-romero  convertible        88.6   168.8        dohc   \n",
            "2       2    alfa-romero    hatchback        94.5   171.2        ohcv   \n",
            "3       3           audi        sedan        99.8   176.6         ohc   \n",
            "4       4           audi        sedan        99.4   176.6         ohc   \n",
            "5       5           audi        sedan        99.8   177.3         ohc   \n",
            "6       6           audi        wagon       105.8   192.7         ohc   \n",
            "7       9            bmw        sedan       101.2   176.8         ohc   \n",
            "8      10            bmw        sedan       101.2   176.8         ohc   \n",
            "9      11            bmw        sedan       101.2   176.8         ohc   \n",
            "10     13            bmw        sedan       103.5   189.0         ohc   \n",
            "11     14            bmw        sedan       103.5   193.8         ohc   \n",
            "12     15            bmw        sedan       110.0   197.0         ohc   \n",
            "13     16      chevrolet    hatchback        88.4   141.1           l   \n",
            "14     17      chevrolet    hatchback        94.5   155.9         ohc   \n",
            "15     18      chevrolet        sedan        94.5   158.8         ohc   \n",
            "16     19          dodge    hatchback        93.7   157.3         ohc   \n",
            "17     20          dodge    hatchback        93.7   157.3         ohc   \n",
            "18     27          honda        wagon        96.5   157.1         ohc   \n",
            "19     28          honda        sedan        96.5   175.4         ohc   \n",
            "20     29          honda        sedan        96.5   169.1         ohc   \n",
            "21     30          isuzu        sedan        94.3   170.7         ohc   \n",
            "22     31          isuzu        sedan        94.5   155.9         ohc   \n",
            "23     32          isuzu        sedan        94.5   155.9         ohc   \n",
            "24     33         jaguar        sedan       113.0   199.6        dohc   \n",
            "25     34         jaguar        sedan       113.0   199.6        dohc   \n",
            "26     35         jaguar        sedan       102.0   191.7        ohcv   \n",
            "27     36          mazda    hatchback        93.1   159.1         ohc   \n",
            "28     37          mazda    hatchback        93.1   159.1         ohc   \n",
            "29     38          mazda    hatchback        93.1   159.1         ohc   \n",
            "30     39          mazda    hatchback        95.3   169.0       rotor   \n",
            "31     43          mazda        sedan       104.9   175.0         ohc   \n",
            "32     44  mercedes-benz        sedan       110.0   190.9         ohc   \n",
            "33     45  mercedes-benz        wagon       110.0   190.9         ohc   \n",
            "34     46  mercedes-benz        sedan       120.9   208.1        ohcv   \n",
            "35     47  mercedes-benz      hardtop       112.0   199.2        ohcv   \n",
            "36     49     mitsubishi    hatchback        93.7   157.3         ohc   \n",
            "37     50     mitsubishi    hatchback        93.7   157.3         ohc   \n",
            "38     51     mitsubishi        sedan        96.3   172.4         ohc   \n",
            "39     52     mitsubishi        sedan        96.3   172.4         ohc   \n",
            "40     53         nissan        sedan        94.5   165.3         ohc   \n",
            "41     54         nissan        sedan        94.5   165.3         ohc   \n",
            "42     55         nissan        sedan        94.5   165.3         ohc   \n",
            "43     56         nissan        wagon        94.5   170.2         ohc   \n",
            "44     57         nissan        sedan       100.4   184.6        ohcv   \n",
            "45     61        porsche      hardtop        89.5   168.9        ohcf   \n",
            "46     62        porsche  convertible        89.5   168.9        ohcf   \n",
            "47     63        porsche    hatchback        98.4   175.7       dohcv   \n",
            "48     66         toyota    hatchback        95.7   158.7         ohc   \n",
            "49     67         toyota    hatchback        95.7   158.7         ohc   \n",
            "50     68         toyota    hatchback        95.7   158.7         ohc   \n",
            "51     69         toyota        wagon        95.7   169.7         ohc   \n",
            "52     70         toyota        wagon        95.7   169.7         ohc   \n",
            "53     71         toyota        wagon        95.7   169.7         ohc   \n",
            "54     79         toyota        wagon       104.5   187.8        dohc   \n",
            "55     80     volkswagen        sedan        97.3   171.7         ohc   \n",
            "56     81     volkswagen        sedan        97.3   171.7         ohc   \n",
            "57     82     volkswagen        sedan        97.3   171.7         ohc   \n",
            "58     86     volkswagen        sedan        97.3   171.7         ohc   \n",
            "59     87          volvo        sedan       104.3   188.8         ohc   \n",
            "60     88          volvo        wagon       104.3   188.8         ohc   \n",
            "\n",
            "   num-of-cylinders  horsepower  average-mileage    price  \n",
            "0              four         111               21  13495.0  \n",
            "1              four         111               21  16500.0  \n",
            "2               six         154               19  16500.0  \n",
            "3              four         102               24  13950.0  \n",
            "4              five         115               18  17450.0  \n",
            "5              five         110               19  15250.0  \n",
            "6              five         110               19  18920.0  \n",
            "7              four         101               23  16430.0  \n",
            "8              four         101               23  16925.0  \n",
            "9               six         121               21  20970.0  \n",
            "10              six         182               16  30760.0  \n",
            "11              six         182               16  41315.0  \n",
            "12              six         182               15  36880.0  \n",
            "13            three          48               47   5151.0  \n",
            "14             four          70               38   6295.0  \n",
            "15             four          70               38   6575.0  \n",
            "16             four          68               31   6377.0  \n",
            "17             four          68               31   6229.0  \n",
            "18             four          76               30   7295.0  \n",
            "19             four         101               24  12945.0  \n",
            "20             four         100               25  10345.0  \n",
            "21             four          78               24   6785.0  \n",
            "22             four          70               38  15387.0  \n",
            "23             four          70               38  15387.0  \n",
            "24              six         176               15  32250.0  \n",
            "25              six         176               15  35550.0  \n",
            "26           twelve         262               13  36000.0  \n",
            "27             four          68               30   5195.0  \n",
            "28             four          68               31   6095.0  \n",
            "29             four          68               31   6795.0  \n",
            "30              two         101               17  11845.0  \n",
            "31             four          72               31  18344.0  \n",
            "32             five         123               22  25552.0  \n",
            "33             five         123               22  28248.0  \n",
            "34            eight         184               14  40960.0  \n",
            "35            eight         184               14  45400.0  \n",
            "36             four          68               37   5389.0  \n",
            "37             four          68               31   6189.0  \n",
            "38             four          88               25   6989.0  \n",
            "39             four          88               25   8189.0  \n",
            "40             four          55               45   7099.0  \n",
            "41             four          69               31   6649.0  \n",
            "42             four          69               31   6849.0  \n",
            "43             four          69               31   7349.0  \n",
            "44              six         152               19  13499.0  \n",
            "45              six         207               17  34028.0  \n",
            "46              six         207               17  37028.0  \n",
            "47            eight         288               17  15387.0  \n",
            "48             four          62               35   5348.0  \n",
            "49             four          62               31   6338.0  \n",
            "50             four          62               31   6488.0  \n",
            "51             four          62               31   6918.0  \n",
            "52             four          62               27   7898.0  \n",
            "53             four          62               27   8778.0  \n",
            "54              six         156               19  15750.0  \n",
            "55             four          52               37   7775.0  \n",
            "56             four          85               27   7975.0  \n",
            "57             four          52               37   7995.0  \n",
            "58             four         100               26   9995.0  \n",
            "59             four         114               23  12940.0  \n",
            "60             four         114               23  13415.0  \n"
          ]
        }
      ]
    },
    {
      "cell_type": "markdown",
      "source": [
        "Exercise 5: Count total cars per company and print them\n",
        "\n",
        "\n"
      ],
      "metadata": {
        "id": "67ErI6He2wz6"
      }
    },
    {
      "cell_type": "code",
      "source": [
        "car = df['company'].value_counts()\n",
        "print(\"Total cars per company:\\n\")\n",
        "print(car)"
      ],
      "metadata": {
        "id": "8H6ytVXD26Ae",
        "colab": {
          "base_uri": "https://localhost:8080/"
        },
        "outputId": "85144696-d090-4889-8885-dd190b3a9bbd"
      },
      "execution_count": 54,
      "outputs": [
        {
          "output_type": "stream",
          "name": "stdout",
          "text": [
            "Total cars per company:\n",
            "\n",
            "company\n",
            "toyota           7\n",
            "bmw              6\n",
            "mazda            5\n",
            "nissan           5\n",
            "mercedes-benz    4\n",
            "audi             4\n",
            "volkswagen       4\n",
            "mitsubishi       4\n",
            "chevrolet        3\n",
            "jaguar           3\n",
            "isuzu            3\n",
            "honda            3\n",
            "porsche          3\n",
            "alfa-romero      3\n",
            "dodge            2\n",
            "volvo            2\n",
            "Name: count, dtype: int64\n"
          ]
        }
      ]
    },
    {
      "cell_type": "markdown",
      "source": [
        "## Matplotlib Exercises"
      ],
      "metadata": {
        "id": "OcyPTwrWxdXt"
      }
    },
    {
      "cell_type": "markdown",
      "source": [
        "Use the following CSV file for this exercise. Read this file using Pandas or NumPy or using in-built matplotlib function. \\\\\n",
        "https://pynative.com/wp-content/uploads/2019/01/company_sales_data.csv"
      ],
      "metadata": {
        "id": "f0JDeA8Lxu-8"
      }
    },
    {
      "cell_type": "markdown",
      "source": [
        "Exercise 1: Read Total profit of all months and show it using a line plot \\\\\n",
        "Total profit data provided for each month. Generated line plot must include the following properties: –\n",
        "\n",
        "X label name = Month Number \\\\\n",
        "Y label name = Total profit \\\\\n",
        "\n",
        "\n"
      ],
      "metadata": {
        "id": "zYDZqjEzyoFN"
      }
    },
    {
      "cell_type": "code",
      "source": [
        "df=pd.read_csv('company_sales_data.csv')\n",
        "import matplotlib.pyplot as plt"
      ],
      "metadata": {
        "id": "wp_s9Dh50MQX"
      },
      "execution_count": 55,
      "outputs": []
    },
    {
      "cell_type": "code",
      "source": [
        "months = df['month_number']\n",
        "profit = df['total_profit']\n",
        "plt.plot(months, profit, marker='o', color='r', linestyle='-')\n",
        "plt.xlabel('Month Number')\n",
        "plt.ylabel('Total profit')\n",
        "plt.title('Company Total Profit/ Month')\n",
        "plt.grid(True)\n",
        "plt.show()"
      ],
      "metadata": {
        "colab": {
          "base_uri": "https://localhost:8080/",
          "height": 472
        },
        "id": "5UK___nSedrN",
        "outputId": "ead22047-df43-4a57-caae-217ec98aba36"
      },
      "execution_count": 56,
      "outputs": [
        {
          "output_type": "display_data",
          "data": {
            "text/plain": [
              "<Figure size 640x480 with 1 Axes>"
            ],
            "image/png": "[encoded data removed]"
          },
          "metadata": {}
        }
      ]
    },
    {
      "cell_type": "markdown",
      "source": [
        "Exercise : Read face cream and facewash product sales data and show it using the bar chart \\\\\n",
        "The bar chart should display the number of units sold per month for each product. \\\\\n",
        "Add a separate bar for each product in the same chart."
      ],
      "metadata": {
        "id": "muEpI78E0LjF"
      }
    },
    {
      "cell_type": "code",
      "source": [
        "month = df['month_number']\n",
        "cream = df['facecream']\n",
        "wash = df['facewash']\n",
        "plt.bar(month-0.15, cream, width=0.3, label='Face Cream',color='r')\n",
        "plt.bar(month+0.15, wash, width=0.3, label='Face Wash',color='b')\n",
        "plt.xlabel('Month Number')\n",
        "plt.ylabel('Units Sold')\n",
        "plt.title('Monthly Sales of Face Cream and Face Wash')\n",
        "plt.legend()\n",
        "plt.show()"
      ],
      "metadata": {
        "id": "JmR3PAE71gIi",
        "colab": {
          "base_uri": "https://localhost:8080/",
          "height": 472
        },
        "outputId": "431f0baf-7516-459a-f77c-1b8dbe5b7c23"
      },
      "execution_count": 57,
      "outputs": [
        {
          "output_type": "display_data",
          "data": {
            "text/plain": [
              "<Figure size 640x480 with 1 Axes>"
            ],
            "image/png": "[encoded data removed]"
          },
          "metadata": {}
        }
      ]
    }
  ]
}