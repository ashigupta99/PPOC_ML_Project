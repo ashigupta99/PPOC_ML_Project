{
  "nbformat": 4,
  "nbformat_minor": 0,
  "metadata": {
    "colab": {
      "provenance": [],
      "gpuType": "T4",
      "mount_file_id": "15hNZ_9b7uqKOY9U4FuMcORYbiNbd4r9K",
      "authorship_tag": "ABX9TyPRNXeT4ENj9wclXHZInkdO",
      "include_colab_link": true
    },
    "kernelspec": {
      "name": "python3",
      "display_name": "Python 3"
    },
    "language_info": {
      "name": "python"
    },
    "accelerator": "GPU",
    "widgets": {
      "application/vnd.jupyter.widget-state+json": {
        "aaba2c8e6ef4429b906034f4ea8a63ea": {
          "model_module": "@jupyter-widgets/controls",
          "model_name": "HBoxModel",
          "model_module_version": "1.5.0",
          "state": {
            "_dom_classes": [],
            "_model_module": "@jupyter-widgets/controls",
            "_model_module_version": "1.5.0",
            "_model_name": "HBoxModel",
            "_view_count": null,
            "_view_module": "@jupyter-widgets/controls",
            "_view_module_version": "1.5.0",
            "_view_name": "HBoxView",
            "box_style": "",
            "children": [
              "IPY_MODEL_2abea04389da4f0382eb7337f1f2efff",
              "IPY_MODEL_97ab910a7d29411eb6a834092e6507ce",
              "IPY_MODEL_3d7a24323a9e46628fb99708b182b985"
            ],
            "layout": "IPY_MODEL_bce6478c32274e63805b14b7a45526a6"
          }
        },
        "2abea04389da4f0382eb7337f1f2efff": {
          "model_module": "@jupyter-widgets/controls",
          "model_name": "HTMLModel",
          "model_module_version": "1.5.0",
          "state": {
            "_dom_classes": [],
            "_model_module": "@jupyter-widgets/controls",
            "_model_module_version": "1.5.0",
            "_model_name": "HTMLModel",
            "_view_count": null,
            "_view_module": "@jupyter-widgets/controls",
            "_view_module_version": "1.5.0",
            "_view_name": "HTMLView",
            "description": "",
            "description_tooltip": null,
            "layout": "IPY_MODEL_bcf7156c82c141bd82072adfa0e439f4",
            "placeholder": "​",
            "style": "IPY_MODEL_da7fa3788f2843e5900481ee99642f3f",
            "value": "model.safetensors: 100%"
          }
        },
        "97ab910a7d29411eb6a834092e6507ce": {
          "model_module": "@jupyter-widgets/controls",
          "model_name": "FloatProgressModel",
          "model_module_version": "1.5.0",
          "state": {
            "_dom_classes": [],
            "_model_module": "@jupyter-widgets/controls",
            "_model_module_version": "1.5.0",
            "_model_name": "FloatProgressModel",
            "_view_count": null,
            "_view_module": "@jupyter-widgets/controls",
            "_view_module_version": "1.5.0",
            "_view_name": "ProgressView",
            "bar_style": "success",
            "description": "",
            "description_tooltip": null,
            "layout": "IPY_MODEL_4c5139a80f094558ba3e6e05d4c44d61",
            "max": 440449768,
            "min": 0,
            "orientation": "horizontal",
            "style": "IPY_MODEL_629e5cd3a1854810b09408c8d747bf6f",
            "value": 440449768
          }
        },
        "3d7a24323a9e46628fb99708b182b985": {
          "model_module": "@jupyter-widgets/controls",
          "model_name": "HTMLModel",
          "model_module_version": "1.5.0",
          "state": {
            "_dom_classes": [],
            "_model_module": "@jupyter-widgets/controls",
            "_model_module_version": "1.5.0",
            "_model_name": "HTMLModel",
            "_view_count": null,
            "_view_module": "@jupyter-widgets/controls",
            "_view_module_version": "1.5.0",
            "_view_name": "HTMLView",
            "description": "",
            "description_tooltip": null,
            "layout": "IPY_MODEL_415371c2a79c4f83ab02524d0f7a04b2",
            "placeholder": "​",
            "style": "IPY_MODEL_a957b82f4c9e4256a3ef9cd7637a25d5",
            "value": " 440M/440M [00:16&lt;00:00, 33.5MB/s]"
          }
        },
        "bce6478c32274e63805b14b7a45526a6": {
          "model_module": "@jupyter-widgets/base",
          "model_name": "LayoutModel",
          "model_module_version": "1.2.0",
          "state": {
            "_model_module": "@jupyter-widgets/base",
            "_model_module_version": "1.2.0",
            "_model_name": "LayoutModel",
            "_view_count": null,
            "_view_module": "@jupyter-widgets/base",
            "_view_module_version": "1.2.0",
            "_view_name": "LayoutView",
            "align_content": null,
            "align_items": null,
            "align_self": null,
            "border": null,
            "bottom": null,
            "display": null,
            "flex": null,
            "flex_flow": null,
            "grid_area": null,
            "grid_auto_columns": null,
            "grid_auto_flow": null,
            "grid_auto_rows": null,
            "grid_column": null,
            "grid_gap": null,
            "grid_row": null,
            "grid_template_areas": null,
            "grid_template_columns": null,
            "grid_template_rows": null,
            "height": null,
            "justify_content": null,
            "justify_items": null,
            "left": null,
            "margin": null,
            "max_height": null,
            "max_width": null,
            "min_height": null,
            "min_width": null,
            "object_fit": null,
            "object_position": null,
            "order": null,
            "overflow": null,
            "overflow_x": null,
            "overflow_y": null,
            "padding": null,
            "right": null,
            "top": null,
            "visibility": null,
            "width": null
          }
        },
        "bcf7156c82c141bd82072adfa0e439f4": {
          "model_module": "@jupyter-widgets/base",
          "model_name": "LayoutModel",
          "model_module_version": "1.2.0",
          "state": {
            "_model_module": "@jupyter-widgets/base",
            "_model_module_version": "1.2.0",
            "_model_name": "LayoutModel",
            "_view_count": null,
            "_view_module": "@jupyter-widgets/base",
            "_view_module_version": "1.2.0",
            "_view_name": "LayoutView",
            "align_content": null,
            "align_items": null,
            "align_self": null,
            "border": null,
            "bottom": null,
            "display": null,
            "flex": null,
            "flex_flow": null,
            "grid_area": null,
            "grid_auto_columns": null,
            "grid_auto_flow": null,
            "grid_auto_rows": null,
            "grid_column": null,
            "grid_gap": null,
            "grid_row": null,
            "grid_template_areas": null,
            "grid_template_columns": null,
            "grid_template_rows": null,
            "height": null,
            "justify_content": null,
            "justify_items": null,
            "left": null,
            "margin": null,
            "max_height": null,
            "max_width": null,
            "min_height": null,
            "min_width": null,
            "object_fit": null,
            "object_position": null,
            "order": null,
            "overflow": null,
            "overflow_x": null,
            "overflow_y": null,
            "padding": null,
            "right": null,
            "top": null,
            "visibility": null,
            "width": null
          }
        },
        "da7fa3788f2843e5900481ee99642f3f": {
          "model_module": "@jupyter-widgets/controls",
          "model_name": "DescriptionStyleModel",
          "model_module_version": "1.5.0",
          "state": {
            "_model_module": "@jupyter-widgets/controls",
            "_model_module_version": "1.5.0",
            "_model_name": "DescriptionStyleModel",
            "_view_count": null,
            "_view_module": "@jupyter-widgets/base",
            "_view_module_version": "1.2.0",
            "_view_name": "StyleView",
            "description_width": ""
          }
        },
        "4c5139a80f094558ba3e6e05d4c44d61": {
          "model_module": "@jupyter-widgets/base",
          "model_name": "LayoutModel",
          "model_module_version": "1.2.0",
          "state": {
            "_model_module": "@jupyter-widgets/base",
            "_model_module_version": "1.2.0",
            "_model_name": "LayoutModel",
            "_view_count": null,
            "_view_module": "@jupyter-widgets/base",
            "_view_module_version": "1.2.0",
            "_view_name": "LayoutView",
            "align_content": null,
            "align_items": null,
            "align_self": null,
            "border": null,
            "bottom": null,
            "display": null,
            "flex": null,
            "flex_flow": null,
            "grid_area": null,
            "grid_auto_columns": null,
            "grid_auto_flow": null,
            "grid_auto_rows": null,
            "grid_column": null,
            "grid_gap": null,
            "grid_row": null,
            "grid_template_areas": null,
            "grid_template_columns": null,
            "grid_template_rows": null,
            "height": null,
            "justify_content": null,
            "justify_items": null,
            "left": null,
            "margin": null,
            "max_height": null,
            "max_width": null,
            "min_height": null,
            "min_width": null,
            "object_fit": null,
            "object_position": null,
            "order": null,
            "overflow": null,
            "overflow_x": null,
            "overflow_y": null,
            "padding": null,
            "right": null,
            "top": null,
            "visibility": null,
            "width": null
          }
        },
        "629e5cd3a1854810b09408c8d747bf6f": {
          "model_module": "@jupyter-widgets/controls",
          "model_name": "ProgressStyleModel",
          "model_module_version": "1.5.0",
          "state": {
            "_model_module": "@jupyter-widgets/controls",
            "_model_module_version": "1.5.0",
            "_model_name": "ProgressStyleModel",
            "_view_count": null,
            "_view_module": "@jupyter-widgets/base",
            "_view_module_version": "1.2.0",
            "_view_name": "StyleView",
            "bar_color": null,
            "description_width": ""
          }
        },
        "415371c2a79c4f83ab02524d0f7a04b2": {
          "model_module": "@jupyter-widgets/base",
          "model_name": "LayoutModel",
          "model_module_version": "1.2.0",
          "state": {
            "_model_module": "@jupyter-widgets/base",
            "_model_module_version": "1.2.0",
            "_model_name": "LayoutModel",
            "_view_count": null,
            "_view_module": "@jupyter-widgets/base",
            "_view_module_version": "1.2.0",
            "_view_name": "LayoutView",
            "align_content": null,
            "align_items": null,
            "align_self": null,
            "border": null,
            "bottom": null,
            "display": null,
            "flex": null,
            "flex_flow": null,
            "grid_area": null,
            "grid_auto_columns": null,
            "grid_auto_flow": null,
            "grid_auto_rows": null,
            "grid_column": null,
            "grid_gap": null,
            "grid_row": null,
            "grid_template_areas": null,
            "grid_template_columns": null,
            "grid_template_rows": null,
            "height": null,
            "justify_content": null,
            "justify_items": null,
            "left": null,
            "margin": null,
            "max_height": null,
            "max_width": null,
            "min_height": null,
            "min_width": null,
            "object_fit": null,
            "object_position": null,
            "order": null,
            "overflow": null,
            "overflow_x": null,
            "overflow_y": null,
            "padding": null,
            "right": null,
            "top": null,
            "visibility": null,
            "width": null
          }
        },
        "a957b82f4c9e4256a3ef9cd7637a25d5": {
          "model_module": "@jupyter-widgets/controls",
          "model_name": "DescriptionStyleModel",
          "model_module_version": "1.5.0",
          "state": {
            "_model_module": "@jupyter-widgets/controls",
            "_model_module_version": "1.5.0",
            "_model_name": "DescriptionStyleModel",
            "_view_count": null,
            "_view_module": "@jupyter-widgets/base",
            "_view_module_version": "1.2.0",
            "_view_name": "StyleView",
            "description_width": ""
          }
        }
      }
    }
  },
  "cells": [
    {
      "cell_type": "markdown",
      "metadata": {
        "id": "view-in-github",
        "colab_type": "text"
      },
      "source": [
        "<a href=\"https://colab.research.google.com/github/ashigupta99/PPOC_ML_Project/blob/main/Final_FakeNews/FakeNewsDetection_ModelScript.ipynb\" target=\"_parent\"><img src=\"https://colab.research.google.com/assets/colab-badge.svg\" alt=\"Open In Colab\"/></a>"
      ]
    },
    {
      "cell_type": "code",
      "execution_count": 1,
      "metadata": {
        "colab": {
          "base_uri": "https://localhost:8080/"
        },
        "id": "j1DDQ6gMY_jl",
        "outputId": "a361271d-4e76-4a0c-f81a-b9e613d51616"
      },
      "outputs": [
        {
          "output_type": "stream",
          "name": "stdout",
          "text": [
            "\u001b[2K   \u001b[90m━━━━━━━━━━━━━━━━━━━━━━━━━━━━━━━━━━━━━━━━\u001b[0m \u001b[32m363.4/363.4 MB\u001b[0m \u001b[31m4.2 MB/s\u001b[0m eta \u001b[36m0:00:00\u001b[0m\n",
            "\u001b[2K   \u001b[90m━━━━━━━━━━━━━━━━━━━━━━━━━━━━━━━━━━━━━━━━\u001b[0m \u001b[32m13.8/13.8 MB\u001b[0m \u001b[31m39.8 MB/s\u001b[0m eta \u001b[36m0:00:00\u001b[0m\n",
            "\u001b[2K   \u001b[90m━━━━━━━━━━━━━━━━━━━━━━━━━━━━━━━━━━━━━━━━\u001b[0m \u001b[32m24.6/24.6 MB\u001b[0m \u001b[31m29.2 MB/s\u001b[0m eta \u001b[36m0:00:00\u001b[0m\n",
            "\u001b[2K   \u001b[90m━━━━━━━━━━━━━━━━━━━━━━━━━━━━━━━━━━━━━━━━\u001b[0m \u001b[32m883.7/883.7 kB\u001b[0m \u001b[31m45.2 MB/s\u001b[0m eta \u001b[36m0:00:00\u001b[0m\n",
            "\u001b[2K   \u001b[90m━━━━━━━━━━━━━━━━━━━━━━━━━━━━━━━━━━━━━━━━\u001b[0m \u001b[32m664.8/664.8 MB\u001b[0m \u001b[31m2.8 MB/s\u001b[0m eta \u001b[36m0:00:00\u001b[0m\n",
            "\u001b[2K   \u001b[90m━━━━━━━━━━━━━━━━━━━━━━━━━━━━━━━━━━━━━━━━\u001b[0m \u001b[32m211.5/211.5 MB\u001b[0m \u001b[31m4.9 MB/s\u001b[0m eta \u001b[36m0:00:00\u001b[0m\n",
            "\u001b[2K   \u001b[90m━━━━━━━━━━━━━━━━━━━━━━━━━━━━━━━━━━━━━━━━\u001b[0m \u001b[32m56.3/56.3 MB\u001b[0m \u001b[31m18.7 MB/s\u001b[0m eta \u001b[36m0:00:00\u001b[0m\n",
            "\u001b[2K   \u001b[90m━━━━━━━━━━━━━━━━━━━━━━━━━━━━━━━━━━━━━━━━\u001b[0m \u001b[32m127.9/127.9 MB\u001b[0m \u001b[31m8.1 MB/s\u001b[0m eta \u001b[36m0:00:00\u001b[0m\n",
            "\u001b[2K   \u001b[90m━━━━━━━━━━━━━━━━━━━━━━━━━━━━━━━━━━━━━━━━\u001b[0m \u001b[32m207.5/207.5 MB\u001b[0m \u001b[31m5.5 MB/s\u001b[0m eta \u001b[36m0:00:00\u001b[0m\n",
            "\u001b[2K   \u001b[90m━━━━━━━━━━━━━━━━━━━━━━━━━━━━━━━━━━━━━━━━\u001b[0m \u001b[32m21.1/21.1 MB\u001b[0m \u001b[31m42.9 MB/s\u001b[0m eta \u001b[36m0:00:00\u001b[0m\n",
            "\u001b[?25h"
          ]
        }
      ],
      "source": [
        "# 1. Install dependencies\n",
        "!pip install transformers datasets accelerate -q"
      ]
    },
    {
      "cell_type": "code",
      "source": [
        "# 2. Imports\n",
        "import pandas as pd\n",
        "import numpy as np\n",
        "import torch\n",
        "from sklearn.model_selection import train_test_split\n",
        "from sklearn.metrics import classification_report, confusion_matrix\n",
        "from transformers import BertTokenizerFast, BertForSequenceClassification, Trainer, TrainingArguments, DataCollatorWithPadding"
      ],
      "metadata": {
        "id": "7e3EYvLsZKko"
      },
      "execution_count": 2,
      "outputs": []
    },
    {
      "cell_type": "code",
      "source": [
        "from google.colab import drive\n",
        "drive.mount('/content/drive')"
      ],
      "metadata": {
        "id": "G7e2QzddaGx6"
      },
      "execution_count": 4,
      "outputs": []
    },
    {
      "cell_type": "code",
      "source": [
        "# 3. Load and preprocess data\n",
        "true_df = pd.read_csv(\"/content/drive/MyDrive/True.csv\")\n",
        "fake_df = pd.read_csv(\"/content/drive/MyDrive/Fake.csv\")\n",
        "true_df[\"label\"] = 1\n",
        "fake_df[\"label\"] = 0\n",
        "df = pd.concat([true_df, fake_df]).sample(frac=1, random_state=42).reset_index(drop=True)\n",
        "df[\"text\"] = df[\"title\"].astype(str) + \" \" + df[\"text\"].astype(str)\n",
        "df = df[[\"text\", \"label\"]]"
      ],
      "metadata": {
        "id": "zNb3UD0kZNHL"
      },
      "execution_count": 5,
      "outputs": []
    },
    {
      "cell_type": "code",
      "source": [
        "# 4. Split data (80/10/10)\n",
        "train_df, temp_df = train_test_split(df, test_size=0.2, stratify=df[\"label\"], random_state=42)\n",
        "val_df, test_df = train_test_split(temp_df, test_size=0.5, stratify=temp_df[\"label\"], random_state=42)"
      ],
      "metadata": {
        "id": "STHfQmr_aYny"
      },
      "execution_count": 7,
      "outputs": []
    },
    {
      "cell_type": "code",
      "source": [
        "# 5. Tokenization\n",
        "tokenizer = BertTokenizerFast.from_pretrained(\"bert-base-uncased\")\n",
        "def tokenize(texts):\n",
        "    return tokenizer(texts, truncation=True, padding=True, max_length=256)\n",
        "\n",
        "train_encodings = tokenize(train_df[\"text\"].tolist())\n",
        "val_encodings = tokenize(val_df[\"text\"].tolist())\n",
        "test_encodings = tokenize(test_df[\"text\"].tolist())"
      ],
      "metadata": {
        "id": "V6jglZPPaoV_"
      },
      "execution_count": 8,
      "outputs": []
    },
    {
      "cell_type": "code",
      "source": [
        "class NewsDataset(torch.utils.data.Dataset):\n",
        "    def __init__(self, encodings, labels):\n",
        "        self.encodings = encodings\n",
        "        self.labels = labels\n",
        "    def __getitem__(self, idx):\n",
        "        item = {k: torch.tensor(v[idx]) for k, v in self.encodings.items()}\n",
        "        item[\"labels\"] = torch.tensor(self.labels[idx], dtype=torch.long)\n",
        "        return item\n",
        "    def __len__(self):\n",
        "        return len(self.labels)\n",
        "\n",
        "train_dataset = NewsDataset(train_encodings, train_df[\"label\"].tolist())\n",
        "val_dataset = NewsDataset(val_encodings, val_df[\"label\"].tolist())\n",
        "test_dataset = NewsDataset(test_encodings, test_df[\"label\"].tolist())"
      ],
      "metadata": {
        "id": "USZnccoUardt"
      },
      "execution_count": 9,
      "outputs": []
    },
    {
      "cell_type": "code",
      "source": [
        "# 6. Model and training setup\n",
        "model = BertForSequenceClassification.from_pretrained(\"bert-base-uncased\", num_labels=2)\n",
        "training_args = TrainingArguments(\n",
        "    output_dir=\"./results\",\n",
        "    eval_strategy=\"epoch\",\n",
        "    save_strategy=\"epoch\",\n",
        "    num_train_epochs=2,\n",
        "    per_device_train_batch_size=8,\n",
        "    per_device_eval_batch_size=8,\n",
        "    load_best_model_at_end=True,\n",
        "    fp16=torch.cuda.is_available(),\n",
        "    logging_dir=\"./logs\",\n",
        "    report_to=\"none\"\n",
        ")"
      ],
      "metadata": {
        "colab": {
          "base_uri": "https://localhost:8080/",
          "height": 84,
          "referenced_widgets": [
            "aaba2c8e6ef4429b906034f4ea8a63ea",
            "2abea04389da4f0382eb7337f1f2efff",
            "97ab910a7d29411eb6a834092e6507ce",
            "3d7a24323a9e46628fb99708b182b985",
            "bce6478c32274e63805b14b7a45526a6",
            "bcf7156c82c141bd82072adfa0e439f4",
            "da7fa3788f2843e5900481ee99642f3f",
            "4c5139a80f094558ba3e6e05d4c44d61",
            "629e5cd3a1854810b09408c8d747bf6f",
            "415371c2a79c4f83ab02524d0f7a04b2",
            "a957b82f4c9e4256a3ef9cd7637a25d5"
          ]
        },
        "id": "RaZ0OxXfaydv",
        "outputId": "a56558da-66cd-4a3d-ecc5-94f646ebdc8b"
      },
      "execution_count": 10,
      "outputs": [
        {
          "output_type": "display_data",
          "data": {
            "text/plain": [
              "model.safetensors:   0%|          | 0.00/440M [00:00<?, ?B/s]"
            ],
            "application/vnd.jupyter.widget-view+json": {
              "version_major": 2,
              "version_minor": 0,
              "model_id": "aaba2c8e6ef4429b906034f4ea8a63ea"
            }
          },
          "metadata": {}
        },
        {
          "output_type": "stream",
          "name": "stderr",
          "text": [
            "Some weights of BertForSequenceClassification were not initialized from the model checkpoint at bert-base-uncased and are newly initialized: ['classifier.bias', 'classifier.weight']\n",
            "You should probably TRAIN this model on a down-stream task to be able to use it for predictions and inference.\n"
          ]
        }
      ]
    },
    {
      "cell_type": "code",
      "source": [
        "data_collator = DataCollatorWithPadding(tokenizer=tokenizer)\n",
        "trainer = Trainer(\n",
        "    model=model,\n",
        "    args=training_args,\n",
        "    train_dataset=train_dataset,\n",
        "    eval_dataset=val_dataset,\n",
        "    tokenizer=tokenizer,\n",
        "    data_collator=data_collator,\n",
        ")"
      ],
      "metadata": {
        "colab": {
          "base_uri": "https://localhost:8080/"
        },
        "id": "qZv0az17a2Co",
        "outputId": "e1e08dec-132e-4f5e-a8c7-d0f6dd393637"
      },
      "execution_count": 11,
      "outputs": [
        {
          "output_type": "stream",
          "name": "stderr",
          "text": [
            "/tmp/ipython-input-11-119389753.py:2: FutureWarning: `tokenizer` is deprecated and will be removed in version 5.0.0 for `Trainer.__init__`. Use `processing_class` instead.\n",
            "  trainer = Trainer(\n"
          ]
        }
      ]
    },
    {
      "cell_type": "code",
      "source": [
        "# 7. Train\n",
        "trainer.train()"
      ],
      "metadata": {
        "colab": {
          "base_uri": "https://localhost:8080/",
          "height": 173
        },
        "id": "vnk048VGa8ln",
        "outputId": "f9d18f41-4586-46f9-ad08-4e919f66ce79"
      },
      "execution_count": 12,
      "outputs": [
        {
          "output_type": "display_data",
          "data": {
            "text/plain": [
              "<IPython.core.display.HTML object>"
            ],
            "text/html": [
              "\n",
              "    <div>\n",
              "      \n",
              "      <progress value='8980' max='8980' style='width:300px; height:20px; vertical-align: middle;'></progress>\n",
              "      [8980/8980 24:14, Epoch 2/2]\n",
              "    </div>\n",
              "    <table border=\"1\" class=\"dataframe\">\n",
              "  <thead>\n",
              " <tr style=\"text-align: left;\">\n",
              "      <th>Epoch</th>\n",
              "      <th>Training Loss</th>\n",
              "      <th>Validation Loss</th>\n",
              "    </tr>\n",
              "  </thead>\n",
              "  <tbody>\n",
              "    <tr>\n",
              "      <td>1</td>\n",
              "      <td>0.009600</td>\n",
              "      <td>0.003109</td>\n",
              "    </tr>\n",
              "    <tr>\n",
              "      <td>2</td>\n",
              "      <td>0.000100</td>\n",
              "      <td>0.000445</td>\n",
              "    </tr>\n",
              "  </tbody>\n",
              "</table><p>"
            ]
          },
          "metadata": {}
        },
        {
          "output_type": "execute_result",
          "data": {
            "text/plain": [
              "TrainOutput(global_step=8980, training_loss=0.008970643631400403, metrics={'train_runtime': 1455.9746, 'train_samples_per_second': 49.339, 'train_steps_per_second': 6.168, 'total_flos': 9450422886420480.0, 'train_loss': 0.008970643631400403, 'epoch': 2.0})"
            ]
          },
          "metadata": {},
          "execution_count": 12
        }
      ]
    },
    {
      "cell_type": "code",
      "source": [
        "# 8. Temperature Scaling (on validation set)\n",
        "import torch\n",
        "import torch.nn as nn\n",
        "import torch.optim as optim\n",
        "import pickle\n",
        "\n",
        "# Collect logits and labels from validation set\n",
        "val_logits = []\n",
        "val_labels = []\n",
        "model.eval()\n",
        "for batch in val_dataset:\n",
        "    inputs = {k: v.unsqueeze(0).to(model.device) for k, v in batch.items() if k != 'labels'}\n",
        "    with torch.no_grad():\n",
        "        outputs = model(**inputs)\n",
        "        val_logits.append(outputs.logits.cpu())\n",
        "        val_labels.append(batch['labels'].item())\n",
        "val_logits = torch.cat(val_logits, dim=0)\n",
        "val_labels = torch.tensor(val_labels)\n",
        "\n",
        "# Temperature scaling wrapper\n",
        "class ModelWithTemperature(nn.Module):\n",
        "    def __init__(self, model):\n",
        "        super().__init__()\n",
        "        self.model = model\n",
        "        self.temperature = nn.Parameter(torch.ones(1) * 1.5)  # Start >1\n",
        "\n",
        "    def forward(self, **inputs):\n",
        "        logits = self.model(**inputs).logits\n",
        "        return logits / self.temperature\n",
        "\n",
        "# Optimize temperature\n",
        "model_temp = ModelWithTemperature(model)\n",
        "optimizer = optim.LBFGS([model_temp.temperature], lr=0.01, max_iter=50)\n",
        "def eval():\n",
        "    optimizer.zero_grad()\n",
        "    logits = val_logits / model_temp.temperature\n",
        "    loss = nn.CrossEntropyLoss()(logits, val_labels)\n",
        "    loss.backward()\n",
        "    return loss\n",
        "optimizer.step(eval)\n",
        "print(f\"Optimal temperature: {model_temp.temperature.item():.3f}\")\n",
        "\n",
        "# Save the temperature value for inference\n",
        "with open(\"temperature.pkl\", \"wb\") as f:\n",
        "    pickle.dump(model_temp.temperature.item(), f)"
      ],
      "metadata": {
        "colab": {
          "base_uri": "https://localhost:8080/"
        },
        "id": "teVREj8wnNG7",
        "outputId": "a29b421c-ead1-4662-f787-e3f7da7d9aa2"
      },
      "execution_count": 21,
      "outputs": [
        {
          "output_type": "stream",
          "name": "stdout",
          "text": [
            "Optimal temperature: 1.499\n"
          ]
        }
      ]
    },
    {
      "cell_type": "code",
      "source": [
        "# 8. Evaluate\n",
        "metrics = trainer.evaluate(test_dataset)\n",
        "print(\"\\nTest set metrics:\", metrics)\n",
        "preds = trainer.predict(test_dataset)\n",
        "y_true = preds.label_ids\n",
        "y_pred = preds.predictions.argmax(axis=1)\n",
        "print(\"\\nClassification Report:\\n\", classification_report(y_true, y_pred, target_names=[\"Fake\", \"Real\"]))\n",
        "print(\"Confusion Matrix:\\n\", confusion_matrix(y_true, y_pred))\n"
      ],
      "metadata": {
        "colab": {
          "base_uri": "https://localhost:8080/",
          "height": 295
        },
        "id": "MIV7gFh1b3vl",
        "outputId": "ddfbc0a7-220b-4d21-d89a-5f8a19fdfa98"
      },
      "execution_count": 22,
      "outputs": [
        {
          "output_type": "display_data",
          "data": {
            "text/plain": [
              "<IPython.core.display.HTML object>"
            ],
            "text/html": []
          },
          "metadata": {}
        },
        {
          "output_type": "stream",
          "name": "stdout",
          "text": [
            "\n",
            "Test set metrics: {'eval_loss': 0.005283174104988575, 'eval_runtime': 17.8198, 'eval_samples_per_second': 251.967, 'eval_steps_per_second': 31.538, 'epoch': 2.0}\n",
            "\n",
            "Classification Report:\n",
            "               precision    recall  f1-score   support\n",
            "\n",
            "        Fake       1.00      1.00      1.00      2348\n",
            "        Real       1.00      1.00      1.00      2142\n",
            "\n",
            "    accuracy                           1.00      4490\n",
            "   macro avg       1.00      1.00      1.00      4490\n",
            "weighted avg       1.00      1.00      1.00      4490\n",
            "\n",
            "Confusion Matrix:\n",
            " [[2346    2]\n",
            " [   0 2142]]\n"
          ]
        }
      ]
    },
    {
      "cell_type": "code",
      "source": [
        "# 9. Save model and tokenizer for Streamlit\n",
        "model.save_pretrained(\"saved_model/\")\n",
        "tokenizer.save_pretrained(\"saved_model/\")"
      ],
      "metadata": {
        "colab": {
          "base_uri": "https://localhost:8080/"
        },
        "id": "pmrRZidgb65t",
        "outputId": "8289e616-4168-4236-f55f-c7e8ef95a4b8"
      },
      "execution_count": 23,
      "outputs": [
        {
          "output_type": "execute_result",
          "data": {
            "text/plain": [
              "('saved_model/tokenizer_config.json',\n",
              " 'saved_model/special_tokens_map.json',\n",
              " 'saved_model/vocab.txt',\n",
              " 'saved_model/added_tokens.json',\n",
              " 'saved_model/tokenizer.json')"
            ]
          },
          "metadata": {},
          "execution_count": 23
        }
      ]
    },
    {
      "cell_type": "code",
      "source": [
        "import torch\n",
        "import pickle\n",
        "\n",
        "# Load model, tokenizer, and optimal temperature\n",
        "from transformers import BertForSequenceClassification, BertTokenizerFast\n",
        "\n",
        "model = BertForSequenceClassification.from_pretrained(\"saved_model/\")\n",
        "tokenizer = BertTokenizerFast.from_pretrained(\"saved_model/\")\n",
        "with open(\"temperature.pkl\", \"rb\") as f:\n",
        "    optimal_temp = pickle.load(f)\n",
        "\n",
        "device = torch.device(\"cuda\" if torch.cuda.is_available() else \"cpu\")\n",
        "model.to(device)\n",
        "model.eval()\n",
        "\n",
        "def predict_with_temperature(text, model, tokenizer, temperature):\n",
        "    inputs = tokenizer(text, return_tensors=\"pt\", truncation=True, padding=True, max_length=256)\n",
        "    inputs = {k: v.to(device) for k, v in inputs.items()}\n",
        "    with torch.no_grad():\n",
        "        logits = model(**inputs).logits\n",
        "        logits = logits / temperature\n",
        "        probs = torch.softmax(logits, dim=1)\n",
        "        pred = torch.argmax(probs, dim=1)\n",
        "        confidence = probs[0, pred.item()].item()\n",
        "    label = \"Real\" if pred.item() == 1 else \"Fake\"\n",
        "    return label, confidence\n",
        "\n",
        "# Example: Predict on new headlines\n",
        "headlines = [\n",
        "    \"NASA’s Perseverance rover begins mission on Mars to collect rock samples.\",\n",
        "    \"COVID-19 vaccine causes magnetic arms in humans.\",\n",
        "    \"India becomes the first country to land on Moon’s south pole.\",\n",
        "    \"Bill Gates admits to creating coronavirus.\",\n",
        "]\n",
        "\n",
        "for text in headlines:\n",
        "    label, conf = predict_with_temperature(text, model, tokenizer, optimal_temp)\n",
        "    print(f\"{text}\\n → {label} (Confidence: {conf*100:.1f}%)\\n\")\n"
      ],
      "metadata": {
        "colab": {
          "base_uri": "https://localhost:8080/"
        },
        "id": "IsQSEizCjl3L",
        "outputId": "3177f47f-afb3-47cf-81a6-c9107f872c86"
      },
      "execution_count": 25,
      "outputs": [
        {
          "output_type": "stream",
          "name": "stdout",
          "text": [
            "NASA’s Perseverance rover begins mission on Mars to collect rock samples.\n",
            " → Real (Confidence: 96.4%)\n",
            "\n",
            "COVID-19 vaccine causes magnetic arms in humans.\n",
            " → Fake (Confidence: 99.9%)\n",
            "\n",
            "India becomes the first country to land on Moon’s south pole.\n",
            " → Real (Confidence: 98.3%)\n",
            "\n",
            "Bill Gates admits to creating coronavirus.\n",
            " → Fake (Confidence: 99.9%)\n",
            "\n"
          ]
        }
      ]
    }
  ]
}